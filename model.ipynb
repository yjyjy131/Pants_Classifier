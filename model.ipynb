{
 "cells": [
  {
   "cell_type": "code",
   "execution_count": null,
   "id": "figured-parade",
   "metadata": {},
   "outputs": [],
   "source": [
    "import torch\n",
    "\n",
    "USE_CUDA = torch.cuda.is_available()\n",
    "print(USE_CUDA)\n",
    "\n",
    "device = torch.device('cuda:0' if USE_CUDA else 'cpu')\n",
    "print('학습을 진행하는 기기:',device)\n",
    "print('cuda index:', torch.cuda.current_device())\n",
    "print('gpu 개수:', torch.cuda.device_count())\n",
    "print('graphic name:', torch.cuda.get_device_name())\n",
    "\n",
    "cuda = torch.device('cuda')\n",
    "print(cuda)"
   ]
  },
  {
   "cell_type": "code",
   "execution_count": null,
   "id": "swiss-detective",
   "metadata": {},
   "outputs": [],
   "source": [
    "import fastbook\n",
    "fastbook.setup_book()"
   ]
  },
  {
   "cell_type": "code",
   "execution_count": null,
   "id": "crazy-supervision",
   "metadata": {},
   "outputs": [],
   "source": [
    "import fastai\n",
    "fastai.__version__\n",
    "from fastai.vision.all import *"
   ]
  },
  {
   "cell_type": "code",
   "execution_count": null,
   "id": "surrounded-allergy",
   "metadata": {},
   "outputs": [],
   "source": [
    "from fastbook import *\n",
    "from fastai.vision.widgets import *"
   ]
  },
  {
   "cell_type": "code",
   "execution_count": null,
   "id": "olive-tender",
   "metadata": {},
   "outputs": [],
   "source": [
    "from IPython.display import display\n",
    "from IPython.display import Image\n",
    "from ipywidgets import widgets"
   ]
  },
  {
   "cell_type": "code",
   "execution_count": null,
   "id": "reduced-integrity",
   "metadata": {},
   "outputs": [],
   "source": [
    "from PIL import Image"
   ]
  },
  {
   "cell_type": "code",
   "execution_count": null,
   "id": "judicial-order",
   "metadata": {},
   "outputs": [],
   "source": [
    "# 데이터셋 로드 \n",
    "path=Path('./dataset')\n",
    "image_files = get_image_files(path)\n",
    "image_files"
   ]
  },
  {
   "cell_type": "code",
   "execution_count": null,
   "id": "essential-theorem",
   "metadata": {},
   "outputs": [],
   "source": [
    "# 모델 / 모델 학습 / 학습 결과 \n",
    "plants = DataBlock(\n",
    "    blocks=(ImageBlock, CategoryBlock), \n",
    "    get_items=get_image_files, \n",
    "    splitter=RandomSplitter(valid_pct=0.2, seed=42),\n",
    "    get_y=parent_label,\n",
    "    item_tfms=Resize(128))"
   ]
  },
  {
   "cell_type": "code",
   "execution_count": null,
   "id": "simple-gregory",
   "metadata": {},
   "outputs": [],
   "source": [
    "dls = plants.dataloaders(path, num_workers=0)"
   ]
  },
  {
   "cell_type": "markdown",
   "id": "obvious-falls",
   "metadata": {},
   "source": [
    "### Resize"
   ]
  },
  {
   "cell_type": "code",
   "execution_count": null,
   "id": "heated-estimate",
   "metadata": {},
   "outputs": [],
   "source": [
    "# plants = plants.new(item_tfms=Resize(128, ResizeMethod.Squish))\n",
    "# dls = plants.dataloaders(path, num_workers=0)\n",
    "# dls.valid.show_batch(max_n=4, nrows=1)"
   ]
  },
  {
   "cell_type": "code",
   "execution_count": null,
   "id": "medical-robin",
   "metadata": {},
   "outputs": [],
   "source": [
    "# plants = plants.new(item_tfms=Resize(128, ResizeMethod.Pad, pad_mode='zeros'))\n",
    "# dls = plants.dataloaders(path, num_workers=0)\n",
    "# dls.valid.show_batch(max_n=4, nrows=1)"
   ]
  },
  {
   "cell_type": "code",
   "execution_count": null,
   "id": "congressional-apollo",
   "metadata": {},
   "outputs": [],
   "source": [
    "# plants = plants.new(item_tfms=RandomResizedCrop(128, min_scale=0.3))\n",
    "# dls = plants.dataloaders(path, num_workers=0)\n",
    "# dls.train.show_batch(max_n=4, nrows=1, unique=True)"
   ]
  },
  {
   "cell_type": "code",
   "execution_count": null,
   "id": "sunrise-better",
   "metadata": {},
   "outputs": [],
   "source": [
    "plants = plants.new(item_tfms=Resize(128), batch_tfms=aug_transforms(mult=2))\n",
    "dls = plants.dataloaders(path, num_workers=0)\n",
    "dls.train.show_batch(max_n=8, nrows=2, unique=True)"
   ]
  },
  {
   "cell_type": "markdown",
   "id": "selective-manor",
   "metadata": {},
   "source": [
    "### Learn"
   ]
  },
  {
   "cell_type": "code",
   "execution_count": null,
   "id": "combined-brief",
   "metadata": {},
   "outputs": [],
   "source": [
    "#torch.cuda.empty_cache()"
   ]
  },
  {
   "cell_type": "code",
   "execution_count": null,
   "id": "three-brick",
   "metadata": {},
   "outputs": [],
   "source": [
    "# learn = cnn_learner(dls, resnet18, metrics=error_rate)\n",
    "# learn.fine_tune(5)  "
   ]
  },
  {
   "cell_type": "code",
   "execution_count": null,
   "id": "signal-lecture",
   "metadata": {},
   "outputs": [],
   "source": [
    "learn = cnn_learner(dls, resnet34, metrics=error_rate)\n",
    "learn.fine_tune(5)  "
   ]
  },
  {
   "cell_type": "code",
   "execution_count": null,
   "id": "square-glenn",
   "metadata": {},
   "outputs": [],
   "source": [
    "plt.rcParams.update({'font.size': 12})\n",
    "interp = ClassificationInterpretation.from_learner(learn)\n",
    "interp.plot_confusion_matrix()"
   ]
  },
  {
   "cell_type": "code",
   "execution_count": null,
   "id": "voluntary-extraction",
   "metadata": {},
   "outputs": [],
   "source": [
    "plt.rcParams.update({'font.size': 8})\n",
    "interp.plot_top_losses(10, nrows=2)"
   ]
  },
  {
   "cell_type": "code",
   "execution_count": null,
   "id": "elect-belgium",
   "metadata": {},
   "outputs": [],
   "source": [
    "cleaner = ImageClassifierCleaner(learn)\n",
    "cleaner"
   ]
  },
  {
   "cell_type": "markdown",
   "id": "innocent-technical",
   "metadata": {},
   "source": [
    "### Export"
   ]
  },
  {
   "cell_type": "code",
   "execution_count": null,
   "id": "instructional-launch",
   "metadata": {},
   "outputs": [],
   "source": [
    "learn.export()"
   ]
  },
  {
   "cell_type": "code",
   "execution_count": null,
   "id": "occasional-pressing",
   "metadata": {},
   "outputs": [],
   "source": [
    "path=Path()\n",
    "path.ls(file_exts='.pkl')"
   ]
  }
 ],
 "metadata": {
  "kernelspec": {
   "display_name": "Python 3",
   "language": "python",
   "name": "python3"
  },
  "language_info": {
   "codemirror_mode": {
    "name": "ipython",
    "version": 3
   },
   "file_extension": ".py",
   "mimetype": "text/x-python",
   "name": "python",
   "nbconvert_exporter": "python",
   "pygments_lexer": "ipython3",
   "version": "3.8.6"
  }
 },
 "nbformat": 4,
 "nbformat_minor": 5
}
