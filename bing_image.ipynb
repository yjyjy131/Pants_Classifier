{
  "nbformat": 4,
  "nbformat_minor": 0,
  "metadata": {
    "colab": {
      "name": "bing_image.ipynb",
      "provenance": [],
      "collapsed_sections": [],
      "authorship_tag": "ABX9TyMd7kN/b5Zsigm2dk4qioxK",
      "include_colab_link": true
    },
    "kernelspec": {
      "name": "python3",
      "display_name": "Python 3"
    }
  },
  "cells": [
    {
      "cell_type": "markdown",
      "metadata": {
        "id": "view-in-github",
        "colab_type": "text"
      },
      "source": [
        "<a href=\"https://colab.research.google.com/github/yjyjy131/plant_classifier_model/blob/main/bing_image.ipynb\" target=\"_parent\"><img src=\"https://colab.research.google.com/assets/colab-badge.svg\" alt=\"Open In Colab\"/></a>"
      ]
    },
    {
      "cell_type": "code",
      "metadata": {
        "colab": {
          "base_uri": "https://localhost:8080/"
        },
        "id": "6LSZD4-IbWF1",
        "outputId": "45bbd8c5-380d-4fbd-b684-9fa5d6d5a6c1"
      },
      "source": [
        "pip install azure-cognitiveservices-search-imagesearch"
      ],
      "execution_count": null,
      "outputs": [
        {
          "output_type": "stream",
          "text": [
            "Requirement already satisfied: azure-cognitiveservices-search-imagesearch in /usr/local/lib/python3.6/dist-packages (2.0.0)\n",
            "Requirement already satisfied: msrest>=0.5.0 in /usr/local/lib/python3.6/dist-packages (from azure-cognitiveservices-search-imagesearch) (0.6.19)\n",
            "Requirement already satisfied: azure-common~=1.1 in /usr/local/lib/python3.6/dist-packages (from azure-cognitiveservices-search-imagesearch) (1.1.26)\n",
            "Requirement already satisfied: msrestazure<2.0.0,>=0.4.32 in /usr/local/lib/python3.6/dist-packages (from azure-cognitiveservices-search-imagesearch) (0.6.4)\n",
            "Requirement already satisfied: certifi>=2017.4.17 in /usr/local/lib/python3.6/dist-packages (from msrest>=0.5.0->azure-cognitiveservices-search-imagesearch) (2020.12.5)\n",
            "Requirement already satisfied: isodate>=0.6.0 in /usr/local/lib/python3.6/dist-packages (from msrest>=0.5.0->azure-cognitiveservices-search-imagesearch) (0.6.0)\n",
            "Requirement already satisfied: requests~=2.16 in /usr/local/lib/python3.6/dist-packages (from msrest>=0.5.0->azure-cognitiveservices-search-imagesearch) (2.23.0)\n",
            "Requirement already satisfied: requests-oauthlib>=0.5.0 in /usr/local/lib/python3.6/dist-packages (from msrest>=0.5.0->azure-cognitiveservices-search-imagesearch) (1.3.0)\n",
            "Requirement already satisfied: adal<2.0.0,>=0.6.0 in /usr/local/lib/python3.6/dist-packages (from msrestazure<2.0.0,>=0.4.32->azure-cognitiveservices-search-imagesearch) (1.2.6)\n",
            "Requirement already satisfied: six in /usr/local/lib/python3.6/dist-packages (from msrestazure<2.0.0,>=0.4.32->azure-cognitiveservices-search-imagesearch) (1.15.0)\n",
            "Requirement already satisfied: idna<3,>=2.5 in /usr/local/lib/python3.6/dist-packages (from requests~=2.16->msrest>=0.5.0->azure-cognitiveservices-search-imagesearch) (2.10)\n",
            "Requirement already satisfied: chardet<4,>=3.0.2 in /usr/local/lib/python3.6/dist-packages (from requests~=2.16->msrest>=0.5.0->azure-cognitiveservices-search-imagesearch) (3.0.4)\n",
            "Requirement already satisfied: urllib3!=1.25.0,!=1.25.1,<1.26,>=1.21.1 in /usr/local/lib/python3.6/dist-packages (from requests~=2.16->msrest>=0.5.0->azure-cognitiveservices-search-imagesearch) (1.24.3)\n",
            "Requirement already satisfied: oauthlib>=3.0.0 in /usr/local/lib/python3.6/dist-packages (from requests-oauthlib>=0.5.0->msrest>=0.5.0->azure-cognitiveservices-search-imagesearch) (3.1.0)\n",
            "Requirement already satisfied: python-dateutil<3,>=2.1.0 in /usr/local/lib/python3.6/dist-packages (from adal<2.0.0,>=0.6.0->msrestazure<2.0.0,>=0.4.32->azure-cognitiveservices-search-imagesearch) (2.8.1)\n",
            "Requirement already satisfied: cryptography>=1.1.0 in /usr/local/lib/python3.6/dist-packages (from adal<2.0.0,>=0.6.0->msrestazure<2.0.0,>=0.4.32->azure-cognitiveservices-search-imagesearch) (3.3.1)\n",
            "Requirement already satisfied: PyJWT<3,>=1.0.0 in /usr/local/lib/python3.6/dist-packages (from adal<2.0.0,>=0.6.0->msrestazure<2.0.0,>=0.4.32->azure-cognitiveservices-search-imagesearch) (2.0.1)\n",
            "Requirement already satisfied: cffi>=1.12 in /usr/local/lib/python3.6/dist-packages (from cryptography>=1.1.0->adal<2.0.0,>=0.6.0->msrestazure<2.0.0,>=0.4.32->azure-cognitiveservices-search-imagesearch) (1.14.4)\n",
            "Requirement already satisfied: pycparser in /usr/local/lib/python3.6/dist-packages (from cffi>=1.12->cryptography>=1.1.0->adal<2.0.0,>=0.6.0->msrestazure<2.0.0,>=0.4.32->azure-cognitiveservices-search-imagesearch) (2.20)\n"
          ],
          "name": "stdout"
        }
      ]
    },
    {
      "cell_type": "code",
      "metadata": {
        "id": "TeZDPYaBa_oK"
      },
      "source": [
        "key = os.environ.get('AZURE_SEARCH_KEY', my_key)"
      ],
      "execution_count": null,
      "outputs": []
    },
    {
      "cell_type": "code",
      "metadata": {
        "id": "AFVXPrUSauSS"
      },
      "source": [
        "!pip install -Uqq fastbook\r\n",
        "import fastbook\r\n",
        "fastbook.setup_book()"
      ],
      "execution_count": null,
      "outputs": []
    },
    {
      "cell_type": "code",
      "metadata": {
        "id": "pfj2-Ljdbp3P"
      },
      "source": [
        "from fastai.vision.all import *\r\n",
        "from nbdev.showdoc import *\r\n",
        "from ipywidgets import widgets\r\n",
        "from pandas.api.types import CategoricalDtype\r\n",
        "\r\n",
        "import matplotlib as mpl\r\n",
        "# mpl.rcParams['figure.dpi']= 200\r\n",
        "mpl.rcParams['savefig.dpi']= 200\r\n",
        "mpl.rcParams['font.size']=12\r\n",
        "\r\n",
        "set_seed(42)\r\n",
        "torch.backends.cudnn.deterministic = True\r\n",
        "torch.backends.cudnn.benchmark = False\r\n",
        "pd.set_option('display.max_columns',999)\r\n",
        "np.set_printoptions(linewidth=200)\r\n",
        "torch.set_printoptions(linewidth=200)\r\n",
        "\r\n",
        "import graphviz\r\n",
        "def gv(s): return graphviz.Source('digraph G{ rankdir=\"LR\"' + s + '; }')\r\n",
        "\r\n",
        "def get_image_files_sorted(path, recurse=True, folders=None): return get_image_files(path, recurse, folders).sorted()\r\n",
        "\r\n",
        "\r\n",
        "# +\r\n",
        "# pip install azure-cognitiveservices-search-imagesearch\r\n",
        "\r\n",
        "from azure.cognitiveservices.search.imagesearch import ImageSearchClient as api\r\n",
        "from msrest.authentication import CognitiveServicesCredentials as auth\r\n",
        "\r\n",
        "def search_images_bing(key, term, min_sz=128, max_images=150):    \r\n",
        "     params = {'q':term, 'count':max_images, 'min_height':min_sz, 'min_width':min_sz}\r\n",
        "     headers = {\"Ocp-Apim-Subscription-Key\":key}\r\n",
        "     search_url = \"https://api.bing.microsoft.com/v7.0/images/search\"\r\n",
        "     response = requests.get(search_url, headers=headers, params=params)\r\n",
        "     response.raise_for_status()\r\n",
        "     search_results = response.json()    \r\n",
        "     return L(search_results['value'])\r\n",
        "\r\n",
        "\r\n",
        "# -\r\n",
        "\r\n",
        "def search_images_ddg(key,max_n=200):\r\n",
        "     \"\"\"Search for 'key' with DuckDuckGo and return a unique urls of 'max_n' images\r\n",
        "        (Adopted from https://github.com/deepanprabhu/duckduckgo-images-api)\r\n",
        "     \"\"\"\r\n",
        "     url        = 'https://duckduckgo.com/'\r\n",
        "     params     = {'q':key}\r\n",
        "     res        = requests.post(url,data=params)\r\n",
        "     searchObj  = re.search(r'vqd=([\\d-]+)\\&',res.text)\r\n",
        "     if not searchObj: print('Token Parsing Failed !'); return\r\n",
        "     requestUrl = url + 'i.js'\r\n",
        "     headers    = {'User-Agent': 'Mozilla/5.0 (X11; Ubuntu; Linux x86_64; rv:71.0) Gecko/20100101 Firefox/71.0'}\r\n",
        "     params     = (('l','us-en'),('o','json'),('q',key),('vqd',searchObj.group(1)),('f',',,,'),('p','1'),('v7exp','a'))\r\n",
        "     urls       = []\r\n",
        "     while True:\r\n",
        "         try:\r\n",
        "             res  = requests.get(requestUrl,headers=headers,params=params)\r\n",
        "             data = json.loads(res.text)\r\n",
        "             for obj in data['results']:\r\n",
        "                 urls.append(obj['image'])\r\n",
        "                 max_n = max_n - 1\r\n",
        "                 if max_n < 1: return L(set(urls))     # dedupe\r\n",
        "             if 'next' not in data: return L(set(urls))\r\n",
        "             requestUrl = url + data['next']\r\n",
        "         except:\r\n",
        "             pass\r\n",
        "\r\n",
        "\r\n",
        "def plot_function(f, tx=None, ty=None, title=None, min=-2, max=2, figsize=(6,4)):\r\n",
        "    x = torch.linspace(min,max)\r\n",
        "    fig,ax = plt.subplots(figsize=figsize)\r\n",
        "    ax.plot(x,f(x))\r\n",
        "    if tx is not None: ax.set_xlabel(tx)\r\n",
        "    if ty is not None: ax.set_ylabel(ty)\r\n",
        "    if title is not None: ax.set_title(title)\r\n",
        "\r\n",
        "# +\r\n",
        "from sklearn.tree import export_graphviz\r\n",
        "\r\n",
        "def draw_tree(t, df, size=10, ratio=0.6, precision=0, **kwargs):\r\n",
        "    s=export_graphviz(t, out_file=None, feature_names=df.columns, filled=True, rounded=True,\r\n",
        "                      special_characters=True, rotate=False, precision=precision, **kwargs)\r\n",
        "    return graphviz.Source(re.sub('Tree {', f'Tree {{ size={size}; ratio={ratio}', s))\r\n",
        "\r\n",
        "\r\n",
        "# +\r\n",
        "from scipy.cluster import hierarchy as hc\r\n",
        "\r\n",
        "def cluster_columns(df, figsize=(10,6), font_size=12):\r\n",
        "    corr = np.round(scipy.stats.spearmanr(df).correlation, 4)\r\n",
        "    corr_condensed = hc.distance.squareform(1-corr)\r\n",
        "    z = hc.linkage(corr_condensed, method='average')\r\n",
        "    fig = plt.figure(figsize=figsize)\r\n",
        "    hc.dendrogram(z, labels=df.columns, orientation='left', leaf_font_size=font_size)\r\n",
        "    plt.show()\r\n",
        "\r\n",
        "from itertools import chain\r\n",
        "\r\n",
        "from azure.cognitiveservices.search.imagesearch import ImageSearchClient as api\r\n",
        "from msrest.authentication import CognitiveServicesCredentials as auth\r\n",
        "\r\n",
        "\r\n",
        "def search_images_bing_many(key, term, total_count=150, min_sz=1000):\r\n",
        "    \"\"\"Search for images using the Bing API\r\n",
        "    \r\n",
        "    :param key: Your Bing API key\r\n",
        "    :type key: str\r\n",
        "    :param term: The search term to search for\r\n",
        "    :type term: str\r\n",
        "    :param total_count: The total number of images you want to return (default is 150)\r\n",
        "    :type total_count: int\r\n",
        "    :param min_sz: the minimum height and width of the images to search for (default is 128)\r\n",
        "    :type min_sz: int\r\n",
        "    :returns: An L-collection of ImageObject\r\n",
        "    :rtype: L\r\n",
        "    \"\"\"\r\n",
        "    headers = {\"Ocp-Apim-Subscription-Key\":key}\r\n",
        "    search_url = \"https://api.bing.microsoft.com/v7.0/images/search\"\r\n",
        "\r\n",
        "    max_count = 150\r\n",
        "\r\n",
        "    imgs = []\r\n",
        "    for offset in range(0, total_count, max_count):\r\n",
        "        if ((total_count - offset) > max_count):\r\n",
        "            count = max_count\r\n",
        "        else:\r\n",
        "            count = total_count - offset\r\n",
        "\r\n",
        "        params = {'q':term, 'count':count, 'min_height':min_sz, 'min_width':min_sz, 'offset': offset}\r\n",
        "        response = requests.get(search_url, headers=headers, params=params)\r\n",
        "        search_results = response.json()\r\n",
        "        imgs.append(L(search_results['value']))\r\n",
        "\r\n",
        "    return L(chain(*imgs)).attrgot('contentUrl').unique()"
      ],
      "execution_count": null,
      "outputs": []
    },
    {
      "cell_type": "code",
      "metadata": {
        "id": "j0oTHEuGayXZ"
      },
      "source": [
        "shoes_types = 'cactus','succulent','tree'\r\n",
        "path = Path('bing_my_plant')"
      ],
      "execution_count": null,
      "outputs": []
    },
    {
      "cell_type": "code",
      "metadata": {
        "id": "K6jlVd1faycY"
      },
      "source": [
        "if not path.exists():\r\n",
        "    path.mkdir()\r\n",
        "    for o in shoes_types:\r\n",
        "        dest = (path/o)\r\n",
        "        dest.mkdir(exist_ok=True)\r\n",
        "        #results = search_images_bing(key, f'{o} plant')\r\n",
        "        results = search_images_bing_many(key,f'{o} plant')\r\n",
        "        download_images(dest, urls=results)"
      ],
      "execution_count": null,
      "outputs": []
    },
    {
      "cell_type": "code",
      "metadata": {
        "id": "sji88tc2ayeo"
      },
      "source": [
        "!zip -r 'bing_my_plant.zip' 'bing_my_plant/'\r\n",
        "from google.colab import files\r\n",
        "files.download('./bing_my_plant.zip')"
      ],
      "execution_count": null,
      "outputs": []
    }
  ]
}